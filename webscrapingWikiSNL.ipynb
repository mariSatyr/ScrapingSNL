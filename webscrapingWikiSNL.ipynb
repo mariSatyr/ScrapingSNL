{
 "cells": [
  {
   "cell_type": "code",
   "execution_count": 3,
   "metadata": {},
   "outputs": [],
   "source": [
    "import imp\n",
    "\n",
    "import requests\n",
    "from bs4 import BeautifulSoup\n",
    "url = 'https://en.wikipedia.org/wiki/List_of_Saturday_Night_Live_cast_members'\n",
    "page = requests.get(url)\n",
    "soup = BeautifulSoup(page.content, 'html.parser')\n",
    "\n",
    "tb = soup.find('table', class_='wikitable')"
   ]
  },
  {
   "cell_type": "code",
   "execution_count": 6,
   "metadata": {},
   "outputs": [
    {
     "name": "stdout",
     "output_type": "stream",
     "text": [
      "['Fred Armisen', 'Aristotle Athari', 'Dan Aykroyd', 'Peter Aykroyd', 'Morwenna Banks', 'Vanessa Bayer', 'Jim Belushi', 'John Belushi', 'Beck Bennett', 'Jim Breuer', 'Paul Brittain', 'A. Whitney Brown', 'Aidy Bryant', 'Beth Cahill', 'Dana Carvey', 'Chevy Chase', 'Michael Che', 'Ellen Cleghorne', 'George Coe', 'Billy Crystal', 'Jane Curtin', 'Joan Cusack', 'Pete Davidson', 'Tom Davis', 'Mikey Day', 'Denny Dillon', 'Andrew Dismukes', 'Jim Downey', 'Robert Downey Jr.', 'Brian Doyle-Murray', 'Rachel Dratch', 'Robin Duke', 'Nora Dunn', 'Christine Ebersole', 'Dean Edwards', 'Abby Elliott', 'Chris Elliott', 'Jimmy Fallon', 'Siobhan Fallon', 'Chris Farley', 'Will Ferrell', 'Tina Fey', 'Chloe Fineman', 'Will Forte', 'Al Franken', 'Heidi Gardner', 'Janeane Garofalo', 'Ana Gasteyer', 'Gilbert Gottfried', 'Mary Gross', 'Christopher Guest', 'Bill Hader', 'Anthony Michael Hall', 'Brad Hall', 'Rich Hall', 'Darrell Hammond', 'Phil Hartman', 'Lauren Holt', 'Jan Hooks', 'Yvonne Hudson', 'Melanie Hutsell', 'Victoria Jackson', 'James Austin Johnson', 'Punkie Johnson', 'Leslie Jones', 'Colin Jost', 'Chris Kattan', 'Tim Kazurinsky', 'Laura Kightlinger', 'Taran Killam', 'David Koechner', 'Gary Kroeger', 'Matthew Laurance', 'Julia Louis-Dreyfus', 'Jon Lovitz', 'Norm Macdonald', 'Gail Matthius', 'Michael McKean', 'Mark McKinney', 'Kate McKinnon', 'Tim Meadows', 'Laurie Metcalf', 'Seth Meyers', 'John Milhiser', 'Dennis Miller', 'Jerry Minor', 'Finesse Mitchell', 'Alex Moffat', 'Jay Mohr', 'Kyle Mooney', 'Tracy Morgan', 'Garrett Morris', 'Bobby Moynihan', 'Eddie Murphy', 'Bill Murray', 'Mike Myers', 'Kevin Nealon', 'Laraine Newman', 'Don Novello', 'Luke Null', 'Ego Nwodim', \"Mike O'Brien\", \"Michael O'Donoghue\", 'Cheri Oteri', 'Chris Parnell', 'Nasim Pedrad', 'Jay Pharoah', 'Joe Piscopo', 'Amy Poehler', 'Emily Prager', 'Randy Quaid', 'Colin Quinn', 'Gilda Radner', 'Chris Redd', 'Jeff Richards', 'Rob Riggle', 'Ann Risley', 'Tim Robinson', 'Chris Rock', 'Charles Rocket', 'Tony Rosato', 'Jon Rudnitsky', 'Maya Rudolph', 'Andy Samberg', 'Adam Sandler', 'Horatio Sanz', 'Tom Schiller', 'Rob Schneider', 'Paul Shaffer', 'Molly Shannon', 'Harry Shearer', 'Sarah Sherman', 'Martin Short', 'Sarah Silverman', 'Jenny Slate', 'Robert Smigel', 'David Spade', 'Pamela Stephenson', 'Ben Stiller', 'Cecily Strong', 'Jason Sudeikis', 'Julia Sweeney', 'Terry Sweeney', 'Kenan Thompson', 'Danitra Vance', 'Melissa Villaseñor', 'Dan Vitale', 'Nancy Walls', 'Michaela Watkins', 'Damon Wayans', 'Patrick Weathers', 'Noël Wells', 'Brooks Wheelan', 'Kristen Wiig', 'Casey Wilson', 'Fred Wolf', 'Bowen Yang', 'Sasheer Zamata', 'Alan Zweibel']\n",
      "160\n"
     ]
    }
   ],
   "source": [
    "entire_cast = []\n",
    "for link in tb.find_all('tr'):\n",
    "    name = link.find('a')\n",
    "    if (name == 'None'):\n",
    "        continue\n",
    "    entire_cast.append(name.get_text('title'))\n",
    "print (entire_cast[1:])\n",
    "print(len(entire_cast))\n"
   ]
  },
  {
   "cell_type": "code",
   "execution_count": 16,
   "metadata": {},
   "outputs": [
    {
     "name": "stdout",
     "output_type": "stream",
     "text": [
      "['Fred', 'Aristotle', 'Dan', 'Peter', 'Morwenna', 'Vanessa', 'Jim', 'John', 'Beck', 'Jim', 'Paul', 'A.', 'Aidy', 'Beth', 'Dana', 'Chevy', 'Michael', 'Ellen', 'George', 'Billy', 'Jane', 'Joan', 'Pete', 'Tom', 'Mikey', 'Denny', 'Andrew', 'Jim', 'Robert', 'Brian', 'Rachel', 'Robin', 'Nora', 'Christine', 'Dean', 'Abby', 'Chris', 'Jimmy', 'Siobhan', 'Chris', 'Will', 'Tina', 'Chloe', 'Will', 'Al', 'Heidi', 'Janeane', 'Ana', 'Gilbert', 'Mary', 'Christopher', 'Bill', 'Anthony', 'Brad', 'Rich', 'Darrell', 'Phil', 'Lauren', 'Jan', 'Yvonne', 'Melanie', 'Victoria', 'James', 'Punkie', 'Leslie', 'Colin', 'Chris', 'Tim', 'Laura', 'Taran', 'David', 'Gary', 'Matthew', 'Julia', 'Jon', 'Norm', 'Gail', 'Michael', 'Mark', 'Kate', 'Tim', 'Laurie', 'Seth', 'John', 'Dennis', 'Jerry', 'Finesse', 'Alex', 'Jay', 'Kyle', 'Tracy', 'Garrett', 'Bobby', 'Eddie', 'Bill', 'Mike', 'Kevin', 'Laraine', 'Don', 'Luke', 'Ego', 'Mike', 'Michael', 'Cheri', 'Chris', 'Nasim', 'Jay', 'Joe', 'Amy', 'Emily', 'Randy', 'Colin', 'Gilda', 'Chris', 'Jeff', 'Rob', 'Ann', 'Tim', 'Chris', 'Charles', 'Tony', 'Jon', 'Maya', 'Andy', 'Adam', 'Horatio', 'Tom', 'Rob', 'Paul', 'Molly', 'Harry', 'Sarah', 'Martin', 'Sarah', 'Jenny', 'Robert', 'David', 'Pamela', 'Ben', 'Cecily', 'Jason', 'Julia', 'Terry', 'Kenan', 'Danitra', 'Melissa', 'Dan', 'Nancy', 'Michaela', 'Damon', 'Patrick', 'Noël', 'Brooks', 'Kristen', 'Casey', 'Fred', 'Bowen', 'Sasheer', 'Alan']\n",
      "[['Armisen'], ['Athari'], ['Aykroyd'], ['Aykroyd'], ['Banks'], ['Bayer'], ['Belushi'], ['Belushi'], ['Bennett'], ['Breuer'], ['Brittain'], ['Whitney', 'Brown'], ['Bryant'], ['Cahill'], ['Carvey'], ['Chase'], ['Che'], ['Cleghorne'], ['Coe'], ['Crystal'], ['Curtin'], ['Cusack'], ['Davidson'], ['Davis'], ['Day'], ['Dillon'], ['Dismukes'], ['Downey'], ['Downey', 'Jr.'], ['Doyle-Murray'], ['Dratch'], ['Duke'], ['Dunn'], ['Ebersole'], ['Edwards'], ['Elliott'], ['Elliott'], ['Fallon'], ['Fallon'], ['Farley'], ['Ferrell'], ['Fey'], ['Fineman'], ['Forte'], ['Franken'], ['Gardner'], ['Garofalo'], ['Gasteyer'], ['Gottfried'], ['Gross'], ['Guest'], ['Hader'], ['Michael', 'Hall'], ['Hall'], ['Hall'], ['Hammond'], ['Hartman'], ['Holt'], ['Hooks'], ['Hudson'], ['Hutsell'], ['Jackson'], ['Austin', 'Johnson'], ['Johnson'], ['Jones'], ['Jost'], ['Kattan'], ['Kazurinsky'], ['Kightlinger'], ['Killam'], ['Koechner'], ['Kroeger'], ['Laurance'], ['Louis-Dreyfus'], ['Lovitz'], ['Macdonald'], ['Matthius'], ['McKean'], ['McKinney'], ['McKinnon'], ['Meadows'], ['Metcalf'], ['Meyers'], ['Milhiser'], ['Miller'], ['Minor'], ['Mitchell'], ['Moffat'], ['Mohr'], ['Mooney'], ['Morgan'], ['Morris'], ['Moynihan'], ['Murphy'], ['Murray'], ['Myers'], ['Nealon'], ['Newman'], ['Novello'], ['Null'], ['Nwodim'], [\"O'Brien\"], [\"O'Donoghue\"], ['Oteri'], ['Parnell'], ['Pedrad'], ['Pharoah'], ['Piscopo'], ['Poehler'], ['Prager'], ['Quaid'], ['Quinn'], ['Radner'], ['Redd'], ['Richards'], ['Riggle'], ['Risley'], ['Robinson'], ['Rock'], ['Rocket'], ['Rosato'], ['Rudnitsky'], ['Rudolph'], ['Samberg'], ['Sandler'], ['Sanz'], ['Schiller'], ['Schneider'], ['Shaffer'], ['Shannon'], ['Shearer'], ['Sherman'], ['Short'], ['Silverman'], ['Slate'], ['Smigel'], ['Spade'], ['Stephenson'], ['Stiller'], ['Strong'], ['Sudeikis'], ['Sweeney'], ['Sweeney'], ['Thompson'], ['Vance'], ['Villaseñor'], ['Vitale'], ['Walls'], ['Watkins'], ['Wayans'], ['Weathers'], ['Wells'], ['Wheelan'], ['Wiig'], ['Wilson'], ['Wolf'], ['Yang'], ['Zamata'], ['Zweibel']]\n"
     ]
    }
   ],
   "source": [
    "seperatenames=[]\n",
    "seperatelastnames=[]\n",
    "for i in entire_cast[1:]:\n",
    "    first, *last = i.split(\" \")\n",
    "    seperatenames.append(first)\n",
    "    seperatelastnames.append(last)\n",
    "print(seperatenames)\n",
    "print(seperatelastnames)"
   ]
  },
  {
   "cell_type": "code",
   "execution_count": 22,
   "metadata": {},
   "outputs": [
    {
     "name": "stdout",
     "output_type": "stream",
     "text": [
      "Counter({'Chris': 6, 'Jim': 3, 'Michael': 3, 'Tim': 3, 'Fred': 2, 'Dan': 2, 'John': 2, 'Paul': 2, 'Tom': 2, 'Robert': 2, 'Will': 2, 'Bill': 2, 'Colin': 2, 'David': 2, 'Julia': 2, 'Jon': 2, 'Jay': 2, 'Mike': 2, 'Rob': 2, 'Sarah': 2, 'Aristotle': 1, 'Peter': 1, 'Morwenna': 1, 'Vanessa': 1, 'Beck': 1, 'A.': 1, 'Aidy': 1, 'Beth': 1, 'Dana': 1, 'Chevy': 1, 'Ellen': 1, 'George': 1, 'Billy': 1, 'Jane': 1, 'Joan': 1, 'Pete': 1, 'Mikey': 1, 'Denny': 1, 'Andrew': 1, 'Brian': 1, 'Rachel': 1, 'Robin': 1, 'Nora': 1, 'Christine': 1, 'Dean': 1, 'Abby': 1, 'Jimmy': 1, 'Siobhan': 1, 'Tina': 1, 'Chloe': 1, 'Al': 1, 'Heidi': 1, 'Janeane': 1, 'Ana': 1, 'Gilbert': 1, 'Mary': 1, 'Christopher': 1, 'Anthony': 1, 'Brad': 1, 'Rich': 1, 'Darrell': 1, 'Phil': 1, 'Lauren': 1, 'Jan': 1, 'Yvonne': 1, 'Melanie': 1, 'Victoria': 1, 'James': 1, 'Punkie': 1, 'Leslie': 1, 'Laura': 1, 'Taran': 1, 'Gary': 1, 'Matthew': 1, 'Norm': 1, 'Gail': 1, 'Mark': 1, 'Kate': 1, 'Laurie': 1, 'Seth': 1, 'Dennis': 1, 'Jerry': 1, 'Finesse': 1, 'Alex': 1, 'Kyle': 1, 'Tracy': 1, 'Garrett': 1, 'Bobby': 1, 'Eddie': 1, 'Kevin': 1, 'Laraine': 1, 'Don': 1, 'Luke': 1, 'Ego': 1, 'Cheri': 1, 'Nasim': 1, 'Joe': 1, 'Amy': 1, 'Emily': 1, 'Randy': 1, 'Gilda': 1, 'Jeff': 1, 'Ann': 1, 'Charles': 1, 'Tony': 1, 'Maya': 1, 'Andy': 1, 'Adam': 1, 'Horatio': 1, 'Molly': 1, 'Harry': 1, 'Martin': 1, 'Jenny': 1, 'Pamela': 1, 'Ben': 1, 'Cecily': 1, 'Jason': 1, 'Terry': 1, 'Kenan': 1, 'Danitra': 1, 'Melissa': 1, 'Nancy': 1, 'Michaela': 1, 'Damon': 1, 'Patrick': 1, 'Noël': 1, 'Brooks': 1, 'Kristen': 1, 'Casey': 1, 'Bowen': 1, 'Sasheer': 1, 'Alan': 1})\n"
     ]
    }
   ],
   "source": [
    "from collections import Counter\n",
    "namecount = Counter(seperatenames)\n",
    "print(namecount)"
   ]
  },
  {
   "cell_type": "code",
   "execution_count": 29,
   "metadata": {},
   "outputs": [
    {
     "data": {
      "text/plain": [
       "8"
      ]
     },
     "execution_count": 29,
     "metadata": {},
     "output_type": "execute_result"
    }
   ],
   "source": [
    "namecount.get('Chris')+namecount.get('Christopher') +namecount.get('Beck')"
   ]
  },
  {
   "cell_type": "code",
   "execution_count": 30,
   "metadata": {},
   "outputs": [
    {
     "data": {
      "text/plain": [
       "6"
      ]
     },
     "execution_count": 30,
     "metadata": {},
     "output_type": "execute_result"
    }
   ],
   "source": [
    "namecount.get('Mike')+namecount.get('Michael') +namecount.get('Mikey')"
   ]
  },
  {
   "cell_type": "code",
   "execution_count": 32,
   "metadata": {},
   "outputs": [
    {
     "data": {
      "text/plain": [
       "4"
      ]
     },
     "execution_count": 32,
     "metadata": {},
     "output_type": "execute_result"
    }
   ],
   "source": [
    "namecount.get('John')+ namecount.get('Jon')"
   ]
  },
  {
   "cell_type": "code",
   "execution_count": 36,
   "metadata": {},
   "outputs": [
    {
     "data": {
      "text/plain": [
       "5"
      ]
     },
     "execution_count": 36,
     "metadata": {},
     "output_type": "execute_result"
    }
   ],
   "source": [
    "namecount.get('Robert')+namecount.get('Bobby')+namecount.get('Rob')"
   ]
  }
 ],
 "metadata": {
  "interpreter": {
   "hash": "669f5abd92f1a410df15b0643b9f42360e277a412fc08ae8bc7d7911cf7e8f3d"
  },
  "kernelspec": {
   "display_name": "Python 3.10.2 64-bit",
   "language": "python",
   "name": "python3"
  },
  "language_info": {
   "codemirror_mode": {
    "name": "ipython",
    "version": 3
   },
   "file_extension": ".py",
   "mimetype": "text/x-python",
   "name": "python",
   "nbconvert_exporter": "python",
   "pygments_lexer": "ipython3",
   "version": "3.10.2"
  },
  "orig_nbformat": 4
 },
 "nbformat": 4,
 "nbformat_minor": 2
}
